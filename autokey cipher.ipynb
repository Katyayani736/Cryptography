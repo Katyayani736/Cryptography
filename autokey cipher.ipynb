{
 "cells": [
  {
   "cell_type": "code",
   "execution_count": null,
   "id": "aee37d67",
   "metadata": {},
   "outputs": [],
   "source": [
    "alphabets = {\"A\":0,\"B\":1,\"C\":2,\"D\":3,\"E\":4,\"F\":5,\"G\":6,\"H\":7,\"I\":8,\"J\":9,\"K\":10,\"L\":11,\"M\":12,\"N\":13,\"O\":14,\"P\":15,\"Q\":16,\"R\":17,\"S\":18,\"T\":19,\"U\":20,\"V\":21,\"W\":22,\"X\":23,\"Y\":24,\"Z\":25}"
   ]
  },
  {
   "cell_type": "code",
   "execution_count": null,
   "id": "8e08fd34",
   "metadata": {},
   "outputs": [],
   "source": [
    "def getprimer():\n",
    "    k1=input(\"enter primer:\")\n",
    "    return k1;"
   ]
  },
  {
   "cell_type": "code",
   "execution_count": null,
   "id": "eb7daa7e",
   "metadata": {},
   "outputs": [],
   "source": [
    "def getplaintext():\n",
    "    pt1=input(\"enter plain text:\")\n",
    "    return pt1"
   ]
  },
  {
   "cell_type": "code",
   "execution_count": null,
   "id": "a1e8f74f",
   "metadata": {},
   "outputs": [],
   "source": [
    "def generatekey(p,pt):\n",
    "    key1=p\n",
    "    while(len(key1)!=len(pt)):\n",
    "        for i in pt:\n",
    "            key1=key1+i\n",
    "    return key1"
   ]
  },
  {
   "cell_type": "code",
   "execution_count": null,
   "id": "d6802fc2",
   "metadata": {},
   "outputs": [],
   "source": [
    "def generateciphertext(key,pt):\n",
    "    ct=''\n",
    "    for i,j in key,pt:\n",
    "        print(i,j)\n",
    "        m=alphabets[i]+alphabets[j]\n",
    "        ct.append(list(alphabets.keys())[list(alphabets.values()).index(m)])\n",
    "    return ct"
   ]
  },
  {
   "cell_type": "code",
   "execution_count": null,
   "id": "4b8e3a5e",
   "metadata": {},
   "outputs": [],
   "source": [
    "p=getprimer()\n",
    "pt=getplaintext()\n",
    "key=generatekey(p,pt)\n",
    "ct=generateciphertext(key,pt)\n",
    "print(ct)"
   ]
  },
  {
   "cell_type": "code",
   "execution_count": null,
   "id": "0968796b",
   "metadata": {},
   "outputs": [],
   "source": []
  },
  {
   "cell_type": "code",
   "execution_count": null,
   "id": "009d3ddc",
   "metadata": {},
   "outputs": [],
   "source": []
  },
  {
   "cell_type": "code",
   "execution_count": null,
   "id": "5ed72abd",
   "metadata": {},
   "outputs": [],
   "source": []
  }
 ],
 "metadata": {
  "kernelspec": {
   "display_name": "Python 3 (ipykernel)",
   "language": "python",
   "name": "python3"
  },
  "language_info": {
   "codemirror_mode": {
    "name": "ipython",
    "version": 3
   },
   "file_extension": ".py",
   "mimetype": "text/x-python",
   "name": "python",
   "nbconvert_exporter": "python",
   "pygments_lexer": "ipython3",
   "version": "3.9.12"
  }
 },
 "nbformat": 4,
 "nbformat_minor": 5
}
